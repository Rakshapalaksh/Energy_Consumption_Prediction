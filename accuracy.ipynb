{
 "cells": [
  {
   "cell_type": "code",
   "execution_count": 1,
   "id": "44ee4663",
   "metadata": {},
   "outputs": [],
   "source": [
    "import pandas as pd\n",
    "import numpy as np\n",
    "from sklearn.model_selection import train_test_split\n",
    "from sklearn.preprocessing import LabelEncoder\n",
    "from sklearn.naive_bayes import GaussianNB\n",
    "from sklearn.neighbors import KNeighborsClassifier\n",
    "from sklearn.tree import DecisionTreeClassifier\n",
    "from sklearn.metrics import accuracy_score, precision_score, recall_score, f1_score"
   ]
  },
  {
   "cell_type": "code",
   "execution_count": 3,
   "id": "603826e5",
   "metadata": {},
   "outputs": [],
   "source": [
    "# Load dataset\n",
    "data = pd.read_csv('Energy_consumption.csv')"
   ]
  },
  {
   "cell_type": "code",
   "execution_count": 4,
   "id": "7205b952",
   "metadata": {},
   "outputs": [],
   "source": [
    "# Create binary classification target based on median energy consumption\n",
    "median_consumption = data['EnergyConsumption'].median()\n",
    "data['EnergyClass'] = np.where(data['EnergyConsumption'] > median_consumption, 'High', 'Low')"
   ]
  },
  {
   "cell_type": "code",
   "execution_count": 5,
   "id": "4b603949",
   "metadata": {},
   "outputs": [],
   "source": [
    "# Drop unused columns\n",
    "data = data.drop(columns=['Timestamp', 'EnergyConsumption'])"
   ]
  },
  {
   "cell_type": "code",
   "execution_count": 6,
   "id": "4adff936",
   "metadata": {},
   "outputs": [],
   "source": [
    "# Encode categorical variables\n",
    "label_encoders = {}\n",
    "for col in data.select_dtypes(include='object').columns:\n",
    "    le = LabelEncoder()\n",
    "    data[col] = le.fit_transform(data[col])\n",
    "    label_encoders[col] = le"
   ]
  },
  {
   "cell_type": "code",
   "execution_count": 7,
   "id": "1fec334e",
   "metadata": {},
   "outputs": [],
   "source": [
    "# Prepare training and testing data\n",
    "X = data.drop('EnergyClass', axis=1)\n",
    "y = data['EnergyClass']\n",
    "X_train, X_test, y_train, y_test = train_test_split(X, y, test_size=0.2, random_state=42)"
   ]
  },
  {
   "cell_type": "code",
   "execution_count": 8,
   "id": "a96b4eaf",
   "metadata": {},
   "outputs": [],
   "source": [
    "# Get numeric label for 'High' class\n",
    "high_label_encoded = label_encoders['EnergyClass'].transform(['High'])[0]"
   ]
  },
  {
   "cell_type": "code",
   "execution_count": 9,
   "id": "741bf60f",
   "metadata": {},
   "outputs": [],
   "source": [
    "# Define models\n",
    "models = {\n",
    "    \"Naive Bayes\": GaussianNB(),\n",
    "    \"KNN\": KNeighborsClassifier(n_neighbors=5),\n",
    "    \"CART\": DecisionTreeClassifier(criterion='gini', random_state=42),\n",
    "    \"ID3\": DecisionTreeClassifier(criterion='entropy', random_state=42),\n",
    "    \"C4.5\": DecisionTreeClassifier(criterion='entropy', random_state=42)  # Approximated\n",
    "}"
   ]
  },
  {
   "cell_type": "code",
   "execution_count": 10,
   "id": "9239716a",
   "metadata": {},
   "outputs": [],
   "source": [
    "# Train and evaluate models\n",
    "results = {}\n",
    "for name, model in models.items():\n",
    "    model.fit(X_train, y_train)\n",
    "    y_pred = model.predict(X_test)\n",
    "    results[name] = {\n",
    "        \"Accuracy\": accuracy_score(y_test, y_pred),\n",
    "        \"Precision\": precision_score(y_test, y_pred, pos_label=high_label_encoded),\n",
    "        \"Recall\": recall_score(y_test, y_pred, pos_label=high_label_encoded),\n",
    "        \"F1 Score\": f1_score(y_test, y_pred, pos_label=high_label_encoded)\n",
    "    }"
   ]
  },
  {
   "cell_type": "code",
   "execution_count": 11,
   "id": "fee17742",
   "metadata": {},
   "outputs": [
    {
     "name": "stdout",
     "output_type": "stream",
     "text": [
      "             Accuracy  Precision    Recall  F1 Score\n",
      "Naive Bayes     0.760   0.795918  0.735849  0.764706\n",
      "KNN             0.550   0.581633  0.537736  0.558824\n",
      "CART            0.665   0.696970  0.650943  0.673171\n",
      "ID3             0.670   0.692308  0.679245  0.685714\n",
      "C4.5            0.670   0.692308  0.679245  0.685714\n"
     ]
    }
   ],
   "source": [
    "# Convert results to DataFrame\n",
    "results_df = pd.DataFrame(results).T\n",
    "print(results_df)"
   ]
  }
 ],
 "metadata": {
  "kernelspec": {
   "display_name": "Python 3",
   "language": "python",
   "name": "python3"
  },
  "language_info": {
   "codemirror_mode": {
    "name": "ipython",
    "version": 3
   },
   "file_extension": ".py",
   "mimetype": "text/x-python",
   "name": "python",
   "nbconvert_exporter": "python",
   "pygments_lexer": "ipython3",
   "version": "3.13.2"
  }
 },
 "nbformat": 4,
 "nbformat_minor": 5
}
